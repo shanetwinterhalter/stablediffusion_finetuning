{
 "cells": [
  {
   "attachments": {},
   "cell_type": "markdown",
   "metadata": {},
   "source": [
    "# Imports"
   ]
  },
  {
   "cell_type": "code",
   "execution_count": null,
   "metadata": {},
   "outputs": [],
   "source": [
    "from PIL import Image\n",
    "from os import listdir\n",
    "from hashlib import md5\n",
    "from utils import image_grid"
   ]
  },
  {
   "cell_type": "markdown",
   "metadata": {},
   "source": [
    "# Parameters"
   ]
  },
  {
   "cell_type": "code",
   "execution_count": null,
   "metadata": {},
   "outputs": [],
   "source": [
    "data_folder = \"./models/shane/data/shane\"\n",
    "image_resolution = 768"
   ]
  },
  {
   "cell_type": "markdown",
   "metadata": {},
   "source": [
    "# Functions"
   ]
  },
  {
   "cell_type": "code",
   "execution_count": null,
   "metadata": {},
   "outputs": [],
   "source": [
    "def prep_image(image_path, img_idx):\n",
    "    image = Image.open(image_path)\n",
    "    pic_size = image.size\n",
    "    if pic_size[0] != image_resolution:\n",
    "        print(\"Preparing image \" + image_path.split(\"/\")[-1])\n",
    "        print(\"Original image size: {}\".format(pic_size))\n",
    "        image = image.rotate(-90)\n",
    "        print(\"Rotated image by -90 degrees\")\n",
    "        padding = pic_size[0] - pic_size[1]\n",
    "        image = image.crop((padding//2, 0, pic_size[0] - padding//2, pic_size[1]))\n",
    "        print(\"Cropped image to square of size {}\".format(image.size))\n",
    "        image = image.resize((image_resolution, image_resolution))\n",
    "        print(\"Resized image to {}\".format(image.size))\n",
    "        new_path = data_folder + \"/\" + str(img_idx) + \"_\" + md5(image.tobytes()).hexdigest() + \".jpg\"\n",
    "        print(new_path)\n",
    "        image.save(new_path)\n",
    "        print(\"Saved image to {}\".format(new_path))"
   ]
  },
  {
   "attachments": {},
   "cell_type": "markdown",
   "metadata": {},
   "source": [
    "# Convert Images"
   ]
  },
  {
   "cell_type": "code",
   "execution_count": null,
   "metadata": {},
   "outputs": [],
   "source": [
    "pic_paths = [data_folder + \"/\" + m for m in listdir(data_folder)]"
   ]
  },
  {
   "cell_type": "code",
   "execution_count": null,
   "metadata": {},
   "outputs": [],
   "source": [
    "for idx, path in enumerate(pic_paths):\n",
    "    prep_image(path, idx)"
   ]
  },
  {
   "cell_type": "markdown",
   "metadata": {},
   "source": [
    "# View images"
   ]
  },
  {
   "cell_type": "code",
   "execution_count": null,
   "metadata": {},
   "outputs": [],
   "source": [
    "img_paths = [data_folder + \"/\" + m for m in listdir(data_folder)]\n",
    "img_paths"
   ]
  },
  {
   "cell_type": "code",
   "execution_count": null,
   "metadata": {},
   "outputs": [],
   "source": [
    "images = [Image.open(path) for path in img_paths]"
   ]
  },
  {
   "cell_type": "code",
   "execution_count": null,
   "metadata": {},
   "outputs": [],
   "source": [
    "image_grid(images, rows=2, cols=6)"
   ]
  },
  {
   "cell_type": "code",
   "execution_count": null,
   "metadata": {},
   "outputs": [],
   "source": []
  }
 ],
 "metadata": {
  "kernelspec": {
   "display_name": ".venv",
   "language": "python",
   "name": "python3"
  },
  "language_info": {
   "codemirror_mode": {
    "name": "ipython",
    "version": 3
   },
   "file_extension": ".py",
   "mimetype": "text/x-python",
   "name": "python",
   "nbconvert_exporter": "python",
   "pygments_lexer": "ipython3",
   "version": "3.10.6"
  },
  "orig_nbformat": 4
 },
 "nbformat": 4,
 "nbformat_minor": 2
}
