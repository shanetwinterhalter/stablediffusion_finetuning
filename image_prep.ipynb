{
 "cells": [
  {
   "attachments": {},
   "cell_type": "markdown",
   "metadata": {},
   "source": [
    "# Imports"
   ]
  },
  {
   "cell_type": "code",
   "execution_count": 16,
   "metadata": {},
   "outputs": [],
   "source": [
    "from PIL import Image\n",
    "from os import listdir\n",
    "from hashlib import md5"
   ]
  },
  {
   "cell_type": "markdown",
   "metadata": {},
   "source": [
    "# Parameters"
   ]
  },
  {
   "cell_type": "code",
   "execution_count": 17,
   "metadata": {},
   "outputs": [],
   "source": [
    "data_folder = \"./models/shane/data/shane\"\n",
    "image_resolution = 768"
   ]
  },
  {
   "cell_type": "markdown",
   "metadata": {},
   "source": [
    "# Functions"
   ]
  },
  {
   "cell_type": "code",
   "execution_count": 29,
   "metadata": {},
   "outputs": [],
   "source": [
    "def prep_image(image_path, img_idx):\n",
    "    image = Image.open(image_path)\n",
    "    pic_size = image.size\n",
    "    if pic_size[0] != image_resolution:\n",
    "        print(\"Preparing image \" + image_path.split(\"/\")[-1])\n",
    "        print(\"Original image size: {}\".format(pic_size))\n",
    "        image = image.rotate(-90)\n",
    "        print(\"Rotated image by -90 degrees\")\n",
    "        padding = pic_size[0] - pic_size[1]\n",
    "        image = image.crop((padding//2, 0, pic_size[0] - padding//2, pic_size[1]))\n",
    "        print(\"Cropped image to square of size {}\".format(image.size))\n",
    "        image = image.resize((image_resolution, image_resolution))\n",
    "        print(\"Resized image to {}\".format(image.size))\n",
    "        new_path = data_folder + \"/\" + str(img_idx) + \"_\" + md5(image.tobytes()).hexdigest() + \".jpg\"\n",
    "        print(new_path)\n",
    "        image.save(new_path)\n",
    "        print(\"Saved image to {}\".format(new_path))"
   ]
  },
  {
   "attachments": {},
   "cell_type": "markdown",
   "metadata": {},
   "source": [
    "# Convert Images"
   ]
  },
  {
   "cell_type": "code",
   "execution_count": 33,
   "metadata": {},
   "outputs": [],
   "source": [
    "pic_paths = [data_folder + \"/\" + m for m in listdir(data_folder)]"
   ]
  },
  {
   "cell_type": "code",
   "execution_count": 34,
   "metadata": {},
   "outputs": [
    {
     "name": "stdout",
     "output_type": "stream",
     "text": [
      "Preparing image IMG_0720.jpeg\n",
      "Original image size: (3088, 2316)\n",
      "Rotated image by -90 degrees\n",
      "Cropped image to square of size (2316, 2316)\n",
      "Resized image to (768, 768)\n",
      "./models/shane/data/shane/5_48a6a2054ce1d57fe3e254bcc64872d4.jpg\n",
      "Saved image to ./models/shane/data/shane/5_48a6a2054ce1d57fe3e254bcc64872d4.jpg\n"
     ]
    }
   ],
   "source": [
    "for idx, path in enumerate(pic_paths):\n",
    "    prep_image(path, idx)"
   ]
  },
  {
   "cell_type": "code",
   "execution_count": null,
   "metadata": {},
   "outputs": [],
   "source": []
  }
 ],
 "metadata": {
  "kernelspec": {
   "display_name": ".venv",
   "language": "python",
   "name": "python3"
  },
  "language_info": {
   "codemirror_mode": {
    "name": "ipython",
    "version": 3
   },
   "file_extension": ".py",
   "mimetype": "text/x-python",
   "name": "python",
   "nbconvert_exporter": "python",
   "pygments_lexer": "ipython3",
   "version": "3.10.6"
  },
  "orig_nbformat": 4
 },
 "nbformat": 4,
 "nbformat_minor": 2
}
