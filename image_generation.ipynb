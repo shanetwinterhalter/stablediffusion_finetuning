{
 "cells": [
  {
   "cell_type": "markdown",
   "metadata": {},
   "source": [
    "# Imports"
   ]
  },
  {
   "cell_type": "code",
   "execution_count": 3,
   "metadata": {},
   "outputs": [],
   "source": [
    "from utils import gen_images, save_images, upscale_images"
   ]
  },
  {
   "cell_type": "code",
   "execution_count": 4,
   "metadata": {},
   "outputs": [],
   "source": [
    "img_folder = \"./saved_images\"\n",
    "generated_img_folder = img_folder + \"/generated\"\n",
    "upscaled_img_folder = img_folder + \"/upscaled_smile\""
   ]
  },
  {
   "cell_type": "code",
   "execution_count": 5,
   "metadata": {},
   "outputs": [],
   "source": [
    "!mkdir -p {upscaled_img_folder}"
   ]
  },
  {
   "cell_type": "code",
   "execution_count": 6,
   "metadata": {},
   "outputs": [],
   "source": [
    "weights_folder_name = \"shane9r\"\n",
    "finetuned_model = \"./models/shane/stable_diffusion_weights/\" + weights_folder_name\n",
    "no_imgs = 100\n",
    "num_inference_steps = 15\n",
    "guidance_scale = 25"
   ]
  },
  {
   "cell_type": "code",
   "execution_count": 7,
   "metadata": {},
   "outputs": [],
   "source": [
    "prompt = \"a portrait photo of a shane man, handsome, smile, photograph, photorealistic, hard rim lighting photography--beta --ar 2:3  --beta --upbeta, well lit\"\n",
    "n_prompt = \"bad, deformed, ugly, bad anatomy, cartoon, animated, scary, wrinkles, duplicate, double\""
   ]
  },
  {
   "attachments": {},
   "cell_type": "markdown",
   "metadata": {},
   "source": [
    "# Generate Images"
   ]
  },
  {
   "cell_type": "code",
   "execution_count": 8,
   "metadata": {},
   "outputs": [
    {
     "name": "stderr",
     "output_type": "stream",
     "text": [
      "/home/shane/projects/.venv/lib/python3.10/site-packages/transformers/models/clip/feature_extraction_clip.py:28: FutureWarning: The class CLIPFeatureExtractor is deprecated and will be removed in version 5 of Transformers. Please use CLIPImageProcessor instead.\n",
      "  warnings.warn(\n",
      "100%|██████████| 15/15 [00:03<00:00,  4.60it/s]\n",
      "100%|██████████| 15/15 [00:02<00:00,  5.00it/s]\n",
      "100%|██████████| 15/15 [00:03<00:00,  4.99it/s]\n",
      "100%|██████████| 15/15 [00:03<00:00,  4.98it/s]\n",
      "100%|██████████| 15/15 [00:03<00:00,  4.98it/s]\n",
      "100%|██████████| 15/15 [00:03<00:00,  4.95it/s]\n",
      "100%|██████████| 15/15 [00:03<00:00,  4.95it/s]\n",
      "100%|██████████| 15/15 [00:03<00:00,  4.94it/s]\n",
      "100%|██████████| 15/15 [00:03<00:00,  4.94it/s]\n",
      "100%|██████████| 15/15 [00:03<00:00,  4.94it/s]\n",
      "100%|██████████| 15/15 [00:03<00:00,  4.92it/s]\n",
      "100%|██████████| 15/15 [00:03<00:00,  4.91it/s]\n",
      "100%|██████████| 15/15 [00:03<00:00,  4.91it/s]\n",
      "100%|██████████| 15/15 [00:03<00:00,  4.90it/s]\n",
      "100%|██████████| 15/15 [00:03<00:00,  4.90it/s]\n",
      "100%|██████████| 15/15 [00:03<00:00,  4.90it/s]\n",
      "100%|██████████| 15/15 [00:03<00:00,  4.90it/s]\n",
      "100%|██████████| 15/15 [00:03<00:00,  4.89it/s]\n",
      "100%|██████████| 15/15 [00:03<00:00,  4.89it/s]\n",
      "100%|██████████| 15/15 [00:03<00:00,  4.89it/s]\n",
      "100%|██████████| 15/15 [00:03<00:00,  4.87it/s]\n",
      "100%|██████████| 15/15 [00:03<00:00,  4.87it/s]\n",
      "100%|██████████| 15/15 [00:03<00:00,  4.87it/s]\n",
      "100%|██████████| 15/15 [00:03<00:00,  4.87it/s]\n",
      "100%|██████████| 15/15 [00:03<00:00,  4.87it/s]\n",
      "100%|██████████| 15/15 [00:03<00:00,  4.86it/s]\n",
      "100%|██████████| 15/15 [00:03<00:00,  4.86it/s]\n",
      "100%|██████████| 15/15 [00:03<00:00,  4.86it/s]\n",
      "100%|██████████| 15/15 [00:03<00:00,  4.86it/s]\n",
      "100%|██████████| 15/15 [00:03<00:00,  4.86it/s]\n",
      "100%|██████████| 15/15 [00:03<00:00,  4.86it/s]\n",
      "100%|██████████| 15/15 [00:03<00:00,  4.86it/s]\n",
      "100%|██████████| 15/15 [00:03<00:00,  4.86it/s]\n",
      "100%|██████████| 15/15 [00:03<00:00,  4.86it/s]\n",
      "100%|██████████| 15/15 [00:03<00:00,  4.86it/s]\n",
      "100%|██████████| 15/15 [00:03<00:00,  4.85it/s]\n",
      "100%|██████████| 15/15 [00:03<00:00,  4.85it/s]\n",
      "100%|██████████| 15/15 [00:03<00:00,  4.85it/s]\n",
      "100%|██████████| 15/15 [00:03<00:00,  4.85it/s]\n",
      "100%|██████████| 15/15 [00:03<00:00,  4.85it/s]\n",
      "100%|██████████| 15/15 [00:03<00:00,  4.85it/s]\n",
      "100%|██████████| 15/15 [00:03<00:00,  4.85it/s]\n",
      "100%|██████████| 15/15 [00:03<00:00,  4.85it/s]\n",
      "100%|██████████| 15/15 [00:03<00:00,  4.85it/s]\n",
      "100%|██████████| 15/15 [00:03<00:00,  4.85it/s]\n",
      "100%|██████████| 15/15 [00:03<00:00,  4.85it/s]\n",
      "100%|██████████| 15/15 [00:03<00:00,  4.85it/s]\n",
      "100%|██████████| 15/15 [00:03<00:00,  4.84it/s]\n",
      "100%|██████████| 15/15 [00:03<00:00,  4.84it/s]\n",
      "100%|██████████| 15/15 [00:03<00:00,  4.84it/s]\n",
      "100%|██████████| 15/15 [00:03<00:00,  4.84it/s]\n",
      "100%|██████████| 15/15 [00:03<00:00,  4.84it/s]\n",
      "100%|██████████| 15/15 [00:03<00:00,  4.85it/s]\n",
      "100%|██████████| 15/15 [00:03<00:00,  4.84it/s]\n",
      "100%|██████████| 15/15 [00:03<00:00,  4.84it/s]\n",
      "100%|██████████| 15/15 [00:03<00:00,  4.84it/s]\n",
      "100%|██████████| 15/15 [00:03<00:00,  4.84it/s]\n",
      "100%|██████████| 15/15 [00:03<00:00,  4.84it/s]\n",
      "100%|██████████| 15/15 [00:03<00:00,  4.84it/s]\n",
      "100%|██████████| 15/15 [00:03<00:00,  4.84it/s]\n",
      "100%|██████████| 15/15 [00:03<00:00,  4.84it/s]\n",
      "100%|██████████| 15/15 [00:03<00:00,  4.83it/s]\n",
      "100%|██████████| 15/15 [00:03<00:00,  4.83it/s]\n",
      "100%|██████████| 15/15 [00:03<00:00,  4.83it/s]\n",
      "100%|██████████| 15/15 [00:03<00:00,  4.83it/s]\n",
      "100%|██████████| 15/15 [00:03<00:00,  4.83it/s]\n",
      "100%|██████████| 15/15 [00:03<00:00,  4.82it/s]\n",
      "100%|██████████| 15/15 [00:03<00:00,  4.82it/s]\n",
      "100%|██████████| 15/15 [00:03<00:00,  4.83it/s]\n",
      "100%|██████████| 15/15 [00:03<00:00,  4.82it/s]\n",
      "100%|██████████| 15/15 [00:03<00:00,  4.82it/s]\n",
      "100%|██████████| 15/15 [00:03<00:00,  4.82it/s]\n",
      "100%|██████████| 15/15 [00:03<00:00,  4.82it/s]\n",
      "100%|██████████| 15/15 [00:03<00:00,  4.82it/s]\n",
      "100%|██████████| 15/15 [00:03<00:00,  4.82it/s]\n",
      "100%|██████████| 15/15 [00:03<00:00,  4.82it/s]\n",
      "100%|██████████| 15/15 [00:03<00:00,  4.82it/s]\n",
      "100%|██████████| 15/15 [00:03<00:00,  4.82it/s]\n",
      "100%|██████████| 15/15 [00:03<00:00,  4.82it/s]\n",
      "100%|██████████| 15/15 [00:03<00:00,  4.82it/s]\n",
      "100%|██████████| 15/15 [00:03<00:00,  4.82it/s]\n",
      "100%|██████████| 15/15 [00:03<00:00,  4.82it/s]\n",
      "100%|██████████| 15/15 [00:03<00:00,  4.82it/s]\n",
      "100%|██████████| 15/15 [00:03<00:00,  4.82it/s]\n",
      "100%|██████████| 15/15 [00:03<00:00,  4.82it/s]\n",
      "100%|██████████| 15/15 [00:03<00:00,  4.82it/s]\n",
      "100%|██████████| 15/15 [00:03<00:00,  4.82it/s]\n",
      "100%|██████████| 15/15 [00:03<00:00,  4.82it/s]\n",
      "100%|██████████| 15/15 [00:03<00:00,  4.82it/s]\n",
      "100%|██████████| 15/15 [00:03<00:00,  4.82it/s]\n",
      "100%|██████████| 15/15 [00:03<00:00,  4.82it/s]\n",
      "100%|██████████| 15/15 [00:03<00:00,  4.82it/s]\n",
      "100%|██████████| 15/15 [00:03<00:00,  4.82it/s]\n",
      "100%|██████████| 15/15 [00:03<00:00,  4.82it/s]\n",
      "100%|██████████| 15/15 [00:03<00:00,  4.81it/s]\n",
      "100%|██████████| 15/15 [00:03<00:00,  4.82it/s]\n",
      "100%|██████████| 15/15 [00:03<00:00,  4.82it/s]\n",
      "100%|██████████| 15/15 [00:03<00:00,  4.82it/s]\n",
      "100%|██████████| 15/15 [00:03<00:00,  4.82it/s]\n",
      "100%|██████████| 15/15 [00:03<00:00,  4.81it/s]\n"
     ]
    }
   ],
   "source": [
    "images = gen_images(no_imgs, prompt, n_prompt=n_prompt, num_inference_steps=num_inference_steps, guidance_scale=guidance_scale, \n",
    "                weights_folder_name=weights_folder_name)"
   ]
  },
  {
   "attachments": {},
   "cell_type": "markdown",
   "metadata": {},
   "source": [
    "# Upscale images"
   ]
  },
  {
   "cell_type": "code",
   "execution_count": 11,
   "metadata": {},
   "outputs": [
    {
     "name": "stderr",
     "output_type": "stream",
     "text": [
      "/home/shane/projects/.venv/lib/python3.10/site-packages/safetensors/torch.py:99: UserWarning: TypedStorage is deprecated. It will be removed in the future and UntypedStorage will be the only storage class. This should only matter to you if you are using storages directly.  To access UntypedStorage directly, use tensor.untyped_storage() instead of tensor.storage()\n",
      "  with safe_open(filename, framework=\"pt\", device=device) as f:\n",
      "/home/shane/projects/.venv/lib/python3.10/site-packages/torch/_utils.py:776: UserWarning: TypedStorage is deprecated. It will be removed in the future and UntypedStorage will be the only storage class. This should only matter to you if you are using storages directly.  To access UntypedStorage directly, use tensor.untyped_storage() instead of tensor.storage()\n",
      "  return self.fget.__get__(instance, owner)()\n",
      "/home/shane/projects/.venv/lib/python3.10/site-packages/torch/storage.py:899: UserWarning: TypedStorage is deprecated. It will be removed in the future and UntypedStorage will be the only storage class. This should only matter to you if you are using storages directly.  To access UntypedStorage directly, use tensor.untyped_storage() instead of tensor.storage()\n",
      "  storage = cls(wrap_storage=untyped_storage)\n",
      "/home/shane/projects/.venv/lib/python3.10/site-packages/transformers/modeling_utils.py:402: UserWarning: TypedStorage is deprecated. It will be removed in the future and UntypedStorage will be the only storage class. This should only matter to you if you are using storages directly.  To access UntypedStorage directly, use tensor.untyped_storage() instead of tensor.storage()\n",
      "  with safe_open(checkpoint_file, framework=\"pt\") as f:\n",
      "/home/shane/projects/.venv/lib/python3.10/site-packages/diffusers/pipelines/stable_diffusion/pipeline_stable_diffusion_upscale.py:106: FutureWarning: The configuration file of the vae does not contain `scaling_factor` or it is set to 0.18215, which seems highly unlikely. If your checkpoint is a fine-tuned version of `stabilityai/stable-diffusion-x4-upscaler` you should change 'scaling_factor' to 0.08333 Please make sure to update the config accordingly, as not doing so might lead to incorrect results in future versions. If you have downloaded this checkpoint from the Hugging Face Hub, it would be very nice if you could open a Pull Request for the `vae/config.json` file\n",
      "  deprecate(\"wrong scaling_factor\", \"1.0.0\", deprecation_message, standard_warn=False)\n",
      "100%|██████████| 15/15 [00:06<00:00,  2.46it/s]\n",
      "100%|██████████| 15/15 [00:06<00:00,  2.47it/s]\n",
      "100%|██████████| 15/15 [00:06<00:00,  2.46it/s]\n",
      "100%|██████████| 15/15 [00:06<00:00,  2.45it/s]\n",
      "100%|██████████| 15/15 [00:06<00:00,  2.45it/s]\n",
      "100%|██████████| 15/15 [00:06<00:00,  2.45it/s]\n",
      "100%|██████████| 15/15 [00:06<00:00,  2.44it/s]\n",
      "100%|██████████| 15/15 [00:06<00:00,  2.44it/s]\n",
      "100%|██████████| 15/15 [00:06<00:00,  2.44it/s]\n",
      "100%|██████████| 15/15 [00:06<00:00,  2.44it/s]\n",
      "100%|██████████| 15/15 [00:06<00:00,  2.44it/s]\n",
      "100%|██████████| 15/15 [00:06<00:00,  2.44it/s]\n",
      "100%|██████████| 15/15 [00:06<00:00,  2.44it/s]\n",
      "100%|██████████| 15/15 [00:06<00:00,  2.44it/s]\n",
      "100%|██████████| 15/15 [00:06<00:00,  2.44it/s]\n",
      "100%|██████████| 15/15 [00:06<00:00,  2.44it/s]\n",
      "100%|██████████| 15/15 [00:06<00:00,  2.44it/s]\n",
      "100%|██████████| 15/15 [00:06<00:00,  2.44it/s]\n",
      "100%|██████████| 15/15 [00:06<00:00,  2.44it/s]\n",
      "100%|██████████| 15/15 [00:06<00:00,  2.44it/s]\n",
      "100%|██████████| 15/15 [00:06<00:00,  2.44it/s]\n",
      "100%|██████████| 15/15 [00:06<00:00,  2.44it/s]\n",
      "100%|██████████| 15/15 [00:06<00:00,  2.44it/s]\n",
      "100%|██████████| 15/15 [00:06<00:00,  2.44it/s]\n",
      "100%|██████████| 15/15 [00:06<00:00,  2.43it/s]\n",
      "100%|██████████| 15/15 [00:06<00:00,  2.43it/s]\n",
      "100%|██████████| 15/15 [00:06<00:00,  2.43it/s]\n",
      "100%|██████████| 15/15 [00:06<00:00,  2.43it/s]\n",
      "100%|██████████| 15/15 [00:06<00:00,  2.43it/s]\n",
      "100%|██████████| 15/15 [00:06<00:00,  2.43it/s]\n",
      "100%|██████████| 15/15 [00:06<00:00,  2.43it/s]\n",
      "100%|██████████| 15/15 [00:06<00:00,  2.43it/s]\n",
      "100%|██████████| 15/15 [00:06<00:00,  2.43it/s]\n",
      "100%|██████████| 15/15 [00:06<00:00,  2.43it/s]\n",
      "100%|██████████| 15/15 [00:06<00:00,  2.43it/s]\n",
      "100%|██████████| 15/15 [00:06<00:00,  2.43it/s]\n",
      "100%|██████████| 15/15 [00:06<00:00,  2.43it/s]\n",
      "100%|██████████| 15/15 [00:06<00:00,  2.43it/s]\n",
      "100%|██████████| 15/15 [00:06<00:00,  2.43it/s]\n",
      "100%|██████████| 15/15 [00:06<00:00,  2.43it/s]\n",
      "100%|██████████| 15/15 [00:06<00:00,  2.43it/s]\n",
      "100%|██████████| 15/15 [00:06<00:00,  2.43it/s]\n",
      "100%|██████████| 15/15 [00:06<00:00,  2.43it/s]\n",
      "100%|██████████| 15/15 [00:06<00:00,  2.43it/s]\n",
      "100%|██████████| 15/15 [00:06<00:00,  2.43it/s]\n",
      "100%|██████████| 15/15 [00:06<00:00,  2.43it/s]\n",
      "100%|██████████| 15/15 [00:06<00:00,  2.43it/s]\n",
      "100%|██████████| 15/15 [00:06<00:00,  2.43it/s]\n",
      "100%|██████████| 15/15 [00:06<00:00,  2.43it/s]\n",
      "100%|██████████| 15/15 [00:06<00:00,  2.43it/s]\n",
      "100%|██████████| 15/15 [00:06<00:00,  2.43it/s]\n",
      "100%|██████████| 15/15 [00:06<00:00,  2.43it/s]\n",
      "100%|██████████| 15/15 [00:06<00:00,  2.43it/s]\n",
      "100%|██████████| 15/15 [00:06<00:00,  2.43it/s]\n",
      "100%|██████████| 15/15 [00:06<00:00,  2.43it/s]\n",
      "100%|██████████| 15/15 [00:06<00:00,  2.43it/s]\n",
      "100%|██████████| 15/15 [00:06<00:00,  2.43it/s]\n",
      "100%|██████████| 15/15 [00:06<00:00,  2.43it/s]\n",
      "100%|██████████| 15/15 [00:06<00:00,  2.43it/s]\n",
      "100%|██████████| 15/15 [00:06<00:00,  2.43it/s]\n",
      "100%|██████████| 15/15 [00:06<00:00,  2.43it/s]\n",
      "100%|██████████| 15/15 [00:06<00:00,  2.43it/s]\n",
      "100%|██████████| 15/15 [00:06<00:00,  2.43it/s]\n",
      "100%|██████████| 15/15 [00:06<00:00,  2.43it/s]\n",
      "100%|██████████| 15/15 [00:06<00:00,  2.43it/s]\n",
      "100%|██████████| 15/15 [00:06<00:00,  2.43it/s]\n",
      "100%|██████████| 15/15 [00:06<00:00,  2.43it/s]\n",
      "100%|██████████| 15/15 [00:06<00:00,  2.43it/s]\n",
      "100%|██████████| 15/15 [00:06<00:00,  2.43it/s]\n",
      "100%|██████████| 15/15 [00:06<00:00,  2.43it/s]\n",
      "100%|██████████| 15/15 [00:06<00:00,  2.43it/s]\n",
      "100%|██████████| 15/15 [00:06<00:00,  2.43it/s]\n",
      "100%|██████████| 15/15 [00:06<00:00,  2.43it/s]\n",
      "100%|██████████| 15/15 [00:06<00:00,  2.43it/s]\n",
      "100%|██████████| 15/15 [00:06<00:00,  2.43it/s]\n",
      "100%|██████████| 15/15 [00:06<00:00,  2.43it/s]\n",
      "100%|██████████| 15/15 [00:06<00:00,  2.43it/s]\n",
      "100%|██████████| 15/15 [00:06<00:00,  2.43it/s]\n",
      "100%|██████████| 15/15 [00:06<00:00,  2.43it/s]\n",
      "100%|██████████| 15/15 [00:06<00:00,  2.43it/s]\n",
      "100%|██████████| 15/15 [00:06<00:00,  2.43it/s]\n",
      "100%|██████████| 15/15 [00:06<00:00,  2.43it/s]\n",
      "100%|██████████| 15/15 [00:06<00:00,  2.43it/s]\n",
      "100%|██████████| 15/15 [00:06<00:00,  2.43it/s]\n",
      "100%|██████████| 15/15 [00:06<00:00,  2.43it/s]\n",
      "100%|██████████| 15/15 [00:06<00:00,  2.43it/s]\n",
      "100%|██████████| 15/15 [00:06<00:00,  2.43it/s]\n",
      "100%|██████████| 15/15 [00:06<00:00,  2.43it/s]\n",
      "100%|██████████| 15/15 [00:06<00:00,  2.43it/s]\n",
      "100%|██████████| 15/15 [00:06<00:00,  2.43it/s]\n",
      "100%|██████████| 15/15 [00:06<00:00,  2.43it/s]\n",
      "100%|██████████| 15/15 [00:06<00:00,  2.43it/s]\n",
      "100%|██████████| 15/15 [00:06<00:00,  2.43it/s]\n",
      "100%|██████████| 15/15 [00:06<00:00,  2.43it/s]\n",
      "100%|██████████| 15/15 [00:06<00:00,  2.43it/s]\n",
      "100%|██████████| 15/15 [00:06<00:00,  2.43it/s]\n",
      "100%|██████████| 15/15 [00:06<00:00,  2.43it/s]\n",
      "100%|██████████| 15/15 [00:06<00:00,  2.43it/s]\n",
      "100%|██████████| 15/15 [00:06<00:00,  2.43it/s]\n",
      "100%|██████████| 15/15 [00:06<00:00,  2.43it/s]\n"
     ]
    }
   ],
   "source": [
    "high_res_images = upscale_images(images, prompt, n_prompt=n_prompt, num_inference_steps=num_inference_steps)"
   ]
  },
  {
   "attachments": {},
   "cell_type": "markdown",
   "metadata": {},
   "source": [
    "# Save upscaled images"
   ]
  },
  {
   "cell_type": "code",
   "execution_count": 12,
   "metadata": {},
   "outputs": [],
   "source": [
    "save_images(high_res_images, upscaled_img_folder)"
   ]
  }
 ],
 "metadata": {
  "kernelspec": {
   "display_name": ".venv",
   "language": "python",
   "name": "python3"
  },
  "language_info": {
   "codemirror_mode": {
    "name": "ipython",
    "version": 3
   },
   "file_extension": ".py",
   "mimetype": "text/x-python",
   "name": "python",
   "nbconvert_exporter": "python",
   "pygments_lexer": "ipython3",
   "version": "3.10.6"
  },
  "orig_nbformat": 4
 },
 "nbformat": 4,
 "nbformat_minor": 2
}
